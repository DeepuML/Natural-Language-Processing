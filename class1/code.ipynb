{
 "cells": [
  {
   "cell_type": "code",
   "execution_count": 4,
   "id": "0f17a30b",
   "metadata": {},
   "outputs": [],
   "source": [
    "import nltk  \n",
    "from nltk.corpus import stopwords\n",
    "from nltk.tokenize import word_tokenize\n",
    "from nltk.stem import PorterStemmer\n"
   ]
  },
  {
   "cell_type": "code",
   "execution_count": 5,
   "id": "a33a83ad",
   "metadata": {},
   "outputs": [
    {
     "name": "stderr",
     "output_type": "stream",
     "text": [
      "[nltk_data] Downloading package punkt to\n",
      "[nltk_data]     C:\\Users\\Deepu\\AppData\\Roaming\\nltk_data...\n",
      "[nltk_data]   Package punkt is already up-to-date!\n",
      "[nltk_data] Downloading package stopwords to\n",
      "[nltk_data]     C:\\Users\\Deepu\\AppData\\Roaming\\nltk_data...\n",
      "[nltk_data]   Package stopwords is already up-to-date!\n",
      "[nltk_data] Downloading package averaged_perceptron_tagger to\n",
      "[nltk_data]     C:\\Users\\Deepu\\AppData\\Roaming\\nltk_data...\n",
      "[nltk_data]   Package averaged_perceptron_tagger is already up-to-\n",
      "[nltk_data]       date!\n",
      "[nltk_data] Downloading package wordnet to\n",
      "[nltk_data]     C:\\Users\\Deepu\\AppData\\Roaming\\nltk_data...\n",
      "[nltk_data]   Package wordnet is already up-to-date!\n"
     ]
    },
    {
     "data": {
      "text/plain": [
       "True"
      ]
     },
     "execution_count": 5,
     "metadata": {},
     "output_type": "execute_result"
    }
   ],
   "source": [
    "nltk.download('punkt')\n",
    "nltk.download('stopwords')\n",
    "nltk.download('averaged_perceptron_tagger')\n",
    "nltk.download('wordnet')"
   ]
  },
  {
   "cell_type": "code",
   "execution_count": 11,
   "id": "240c8ab8",
   "metadata": {},
   "outputs": [],
   "source": [
    "text  = \"Hello, how are you doing today? I hope you're having a great day! . I am deepu and I am learning NLP. I love it. I am a student at Euronext. I am learning Python and NLP. I love it.\"\n",
    "text = text.lower()\n",
    "token = word_tokenize(text)"
   ]
  },
  {
   "cell_type": "code",
   "execution_count": 12,
   "id": "3a27d926",
   "metadata": {},
   "outputs": [
    {
     "data": {
      "text/plain": [
       "['hello',\n",
       " ',',\n",
       " 'how',\n",
       " 'are',\n",
       " 'you',\n",
       " 'doing',\n",
       " 'today',\n",
       " '?',\n",
       " 'i',\n",
       " 'hope',\n",
       " 'you',\n",
       " \"'re\",\n",
       " 'having',\n",
       " 'a',\n",
       " 'great',\n",
       " 'day',\n",
       " '!',\n",
       " '.',\n",
       " 'i',\n",
       " 'am',\n",
       " 'deepu',\n",
       " 'and',\n",
       " 'i',\n",
       " 'am',\n",
       " 'learning',\n",
       " 'nlp',\n",
       " '.',\n",
       " 'i',\n",
       " 'love',\n",
       " 'it',\n",
       " '.',\n",
       " 'i',\n",
       " 'am',\n",
       " 'a',\n",
       " 'student',\n",
       " 'at',\n",
       " 'euronext',\n",
       " '.',\n",
       " 'i',\n",
       " 'am',\n",
       " 'learning',\n",
       " 'python',\n",
       " 'and',\n",
       " 'nlp',\n",
       " '.',\n",
       " 'i',\n",
       " 'love',\n",
       " 'it',\n",
       " '.']"
      ]
     },
     "execution_count": 12,
     "metadata": {},
     "output_type": "execute_result"
    }
   ],
   "source": [
    "token"
   ]
  },
  {
   "cell_type": "code",
   "execution_count": 23,
   "id": "5920cdaa",
   "metadata": {},
   "outputs": [
    {
     "data": {
      "text/plain": [
       "['a',\n",
       " 'about',\n",
       " 'above',\n",
       " 'after',\n",
       " 'again',\n",
       " 'against',\n",
       " 'ain',\n",
       " 'all',\n",
       " 'am',\n",
       " 'an',\n",
       " 'and',\n",
       " 'any',\n",
       " 'are',\n",
       " 'aren',\n",
       " \"aren't\",\n",
       " 'as',\n",
       " 'at',\n",
       " 'be',\n",
       " 'because',\n",
       " 'been',\n",
       " 'before',\n",
       " 'being',\n",
       " 'below',\n",
       " 'between',\n",
       " 'both',\n",
       " 'but',\n",
       " 'by',\n",
       " 'can',\n",
       " 'couldn',\n",
       " \"couldn't\",\n",
       " 'd',\n",
       " 'did',\n",
       " 'didn',\n",
       " \"didn't\",\n",
       " 'do',\n",
       " 'does',\n",
       " 'doesn',\n",
       " \"doesn't\",\n",
       " 'doing',\n",
       " 'don',\n",
       " \"don't\",\n",
       " 'down',\n",
       " 'during',\n",
       " 'each',\n",
       " 'few',\n",
       " 'for',\n",
       " 'from',\n",
       " 'further',\n",
       " 'had',\n",
       " 'hadn',\n",
       " \"hadn't\",\n",
       " 'has',\n",
       " 'hasn',\n",
       " \"hasn't\",\n",
       " 'have',\n",
       " 'haven',\n",
       " \"haven't\",\n",
       " 'having',\n",
       " 'he',\n",
       " \"he'd\",\n",
       " \"he'll\",\n",
       " 'her',\n",
       " 'here',\n",
       " 'hers',\n",
       " 'herself',\n",
       " \"he's\",\n",
       " 'him',\n",
       " 'himself',\n",
       " 'his',\n",
       " 'how',\n",
       " 'i',\n",
       " \"i'd\",\n",
       " 'if',\n",
       " \"i'll\",\n",
       " \"i'm\",\n",
       " 'in',\n",
       " 'into',\n",
       " 'is',\n",
       " 'isn',\n",
       " \"isn't\",\n",
       " 'it',\n",
       " \"it'd\",\n",
       " \"it'll\",\n",
       " \"it's\",\n",
       " 'its',\n",
       " 'itself',\n",
       " \"i've\",\n",
       " 'just',\n",
       " 'll',\n",
       " 'm',\n",
       " 'ma',\n",
       " 'me',\n",
       " 'mightn',\n",
       " \"mightn't\",\n",
       " 'more',\n",
       " 'most',\n",
       " 'mustn',\n",
       " \"mustn't\",\n",
       " 'my',\n",
       " 'myself',\n",
       " 'needn',\n",
       " \"needn't\",\n",
       " 'no',\n",
       " 'nor',\n",
       " 'not',\n",
       " 'now',\n",
       " 'o',\n",
       " 'of',\n",
       " 'off',\n",
       " 'on',\n",
       " 'once',\n",
       " 'only',\n",
       " 'or',\n",
       " 'other',\n",
       " 'our',\n",
       " 'ours',\n",
       " 'ourselves',\n",
       " 'out',\n",
       " 'over',\n",
       " 'own',\n",
       " 're',\n",
       " 's',\n",
       " 'same',\n",
       " 'shan',\n",
       " \"shan't\",\n",
       " 'she',\n",
       " \"she'd\",\n",
       " \"she'll\",\n",
       " \"she's\",\n",
       " 'should',\n",
       " 'shouldn',\n",
       " \"shouldn't\",\n",
       " \"should've\",\n",
       " 'so',\n",
       " 'some',\n",
       " 'such',\n",
       " 't',\n",
       " 'than',\n",
       " 'that',\n",
       " \"that'll\",\n",
       " 'the',\n",
       " 'their',\n",
       " 'theirs',\n",
       " 'them',\n",
       " 'themselves',\n",
       " 'then',\n",
       " 'there',\n",
       " 'these',\n",
       " 'they',\n",
       " \"they'd\",\n",
       " \"they'll\",\n",
       " \"they're\",\n",
       " \"they've\",\n",
       " 'this',\n",
       " 'those',\n",
       " 'through',\n",
       " 'to',\n",
       " 'too',\n",
       " 'under',\n",
       " 'until',\n",
       " 'up',\n",
       " 've',\n",
       " 'very',\n",
       " 'was',\n",
       " 'wasn',\n",
       " \"wasn't\",\n",
       " 'we',\n",
       " \"we'd\",\n",
       " \"we'll\",\n",
       " \"we're\",\n",
       " 'were',\n",
       " 'weren',\n",
       " \"weren't\",\n",
       " \"we've\",\n",
       " 'what',\n",
       " 'when',\n",
       " 'where',\n",
       " 'which',\n",
       " 'while',\n",
       " 'who',\n",
       " 'whom',\n",
       " 'why',\n",
       " 'will',\n",
       " 'with',\n",
       " 'won',\n",
       " \"won't\",\n",
       " 'wouldn',\n",
       " \"wouldn't\",\n",
       " 'y',\n",
       " 'you',\n",
       " \"you'd\",\n",
       " \"you'll\",\n",
       " 'your',\n",
       " \"you're\",\n",
       " 'yours',\n",
       " 'yourself',\n",
       " 'yourselves',\n",
       " \"you've\"]"
      ]
     },
     "execution_count": 23,
     "metadata": {},
     "output_type": "execute_result"
    }
   ],
   "source": [
    "stopwords.words('english')"
   ]
  },
  {
   "cell_type": "code",
   "execution_count": 28,
   "id": "d3a99427",
   "metadata": {},
   "outputs": [],
   "source": [
    "for i in token:\n",
    "    if i in stopwords.words('english'):\n",
    "        token.remove(i)"
   ]
  },
  {
   "cell_type": "code",
   "execution_count": 29,
   "id": "3edee4c4",
   "metadata": {},
   "outputs": [
    {
     "data": {
      "text/plain": [
       "['hello',\n",
       " 'today',\n",
       " 'hope',\n",
       " 'great',\n",
       " 'day',\n",
       " 'deepu',\n",
       " 'learning',\n",
       " 'nlp',\n",
       " 'love',\n",
       " 'student',\n",
       " 'euronext',\n",
       " 'learning',\n",
       " 'python',\n",
       " 'nlp',\n",
       " 'love']"
      ]
     },
     "execution_count": 29,
     "metadata": {},
     "output_type": "execute_result"
    }
   ],
   "source": [
    "token"
   ]
  },
  {
   "cell_type": "code",
   "execution_count": 30,
   "id": "d9ab7684",
   "metadata": {},
   "outputs": [
    {
     "name": "stdout",
     "output_type": "stream",
     "text": [
      "hello\n",
      "today\n",
      "hope\n",
      "great\n",
      "day\n",
      "deepu\n",
      "learn\n",
      "nlp\n",
      "love\n",
      "student\n",
      "euronext\n",
      "learn\n",
      "python\n",
      "nlp\n",
      "love\n"
     ]
    }
   ],
   "source": [
    "PorterStemmer = PorterStemmer()\n",
    "\n",
    "for i in token:\n",
    "    print(PorterStemmer.stem(i))"
   ]
  },
  {
   "cell_type": "code",
   "execution_count": 31,
   "id": "b873d7f1",
   "metadata": {},
   "outputs": [
    {
     "data": {
      "text/plain": [
       "'run'"
      ]
     },
     "execution_count": 31,
     "metadata": {},
     "output_type": "execute_result"
    }
   ],
   "source": [
    "PorterStemmer.stem('running')"
   ]
  },
  {
   "cell_type": "code",
   "execution_count": 33,
   "id": "0c326361",
   "metadata": {},
   "outputs": [
    {
     "name": "stdout",
     "output_type": "stream",
     "text": [
      "hello\n",
      "today\n",
      "hope\n",
      "great\n",
      "day\n",
      "deepu\n",
      "learning\n",
      "nlp\n",
      "love\n",
      "student\n",
      "euronext\n",
      "learning\n",
      "python\n",
      "nlp\n",
      "love\n"
     ]
    }
   ],
   "source": [
    "Wordnet = nltk.WordNetLemmatizer()\n",
    "for  i in token:\n",
    "    print(Wordnet.lemmatize(i))"
   ]
  },
  {
   "cell_type": "code",
   "execution_count": 34,
   "id": "0ce9479f",
   "metadata": {},
   "outputs": [
    {
     "data": {
      "text/plain": [
       "'running'"
      ]
     },
     "execution_count": 34,
     "metadata": {},
     "output_type": "execute_result"
    }
   ],
   "source": [
    "Wordnet.lemmatize('running')"
   ]
  },
  {
   "cell_type": "code",
   "execution_count": 35,
   "id": "8567bc51",
   "metadata": {},
   "outputs": [
    {
     "data": {
      "text/plain": [
       "'better'"
      ]
     },
     "execution_count": 35,
     "metadata": {},
     "output_type": "execute_result"
    }
   ],
   "source": [
    "PorterStemmer.stem('better')"
   ]
  },
  {
   "cell_type": "code",
   "execution_count": 38,
   "id": "ab70f419",
   "metadata": {},
   "outputs": [
    {
     "data": {
      "text/plain": [
       "'ran'"
      ]
     },
     "execution_count": 38,
     "metadata": {},
     "output_type": "execute_result"
    }
   ],
   "source": [
    "Wordnet.lemmatize('ran')"
   ]
  },
  {
   "cell_type": "code",
   "execution_count": 40,
   "id": "988f7c83",
   "metadata": {},
   "outputs": [],
   "source": [
    "data =[\n",
    "    'My name is Deepu',\n",
    "    'I am learning NLP',\n",
    "    'I love it',\n",
    "    'I am a student at Euronext',\n",
    "    'I am learning Python and NLP',\n",
    "    'I am MAchine Learning Engineer',\n",
    "    'I am good at comedy',\n",
    "    'I am good at singing',\n",
    "    'I love to study'\n",
    "    ]"
   ]
  },
  {
   "cell_type": "code",
   "execution_count": 58,
   "id": "05ae5f9a",
   "metadata": {},
   "outputs": [],
   "source": [
    "from sklearn.feature_extraction.text import CountVectorizer\n",
    "vectorizer = CountVectorizer()\n",
    "X = vectorizer.fit_transform(data)"
   ]
  },
  {
   "cell_type": "code",
   "execution_count": 64,
   "id": "f3961c23",
   "metadata": {},
   "outputs": [
    {
     "data": {
      "text/plain": [
       "{'my': 13,\n",
       " 'name': 14,\n",
       " 'is': 8,\n",
       " 'deepu': 4,\n",
       " 'am': 0,\n",
       " 'learning': 10,\n",
       " 'nlp': 15,\n",
       " 'love': 11,\n",
       " 'it': 9,\n",
       " 'student': 18,\n",
       " 'at': 2,\n",
       " 'euronext': 6,\n",
       " 'python': 16,\n",
       " 'and': 1,\n",
       " 'machine': 12,\n",
       " 'engineer': 5,\n",
       " 'good': 7,\n",
       " 'comedy': 3,\n",
       " 'singing': 17,\n",
       " 'to': 20,\n",
       " 'study': 19}"
      ]
     },
     "execution_count": 64,
     "metadata": {},
     "output_type": "execute_result"
    }
   ],
   "source": [
    "vectorizer.vocabulary_"
   ]
  },
  {
   "cell_type": "code",
   "execution_count": 61,
   "id": "1571a004",
   "metadata": {},
   "outputs": [
    {
     "data": {
      "text/plain": [
       "array([[0, 0, 0, 0, 1, 0, 0, 0, 1, 0, 0, 0, 0, 1, 1, 0, 0, 0, 0, 0, 0],\n",
       "       [1, 0, 0, 0, 0, 0, 0, 0, 0, 0, 1, 0, 0, 0, 0, 1, 0, 0, 0, 0, 0],\n",
       "       [0, 0, 0, 0, 0, 0, 0, 0, 0, 1, 0, 1, 0, 0, 0, 0, 0, 0, 0, 0, 0],\n",
       "       [1, 0, 1, 0, 0, 0, 1, 0, 0, 0, 0, 0, 0, 0, 0, 0, 0, 0, 1, 0, 0],\n",
       "       [1, 1, 0, 0, 0, 0, 0, 0, 0, 0, 1, 0, 0, 0, 0, 1, 1, 0, 0, 0, 0],\n",
       "       [1, 0, 0, 0, 0, 1, 0, 0, 0, 0, 1, 0, 1, 0, 0, 0, 0, 0, 0, 0, 0],\n",
       "       [1, 0, 1, 1, 0, 0, 0, 1, 0, 0, 0, 0, 0, 0, 0, 0, 0, 0, 0, 0, 0],\n",
       "       [1, 0, 1, 0, 0, 0, 0, 1, 0, 0, 0, 0, 0, 0, 0, 0, 0, 1, 0, 0, 0],\n",
       "       [0, 0, 0, 0, 0, 0, 0, 0, 0, 0, 0, 1, 0, 0, 0, 0, 0, 0, 0, 1, 1]],\n",
       "      dtype=int64)"
      ]
     },
     "execution_count": 61,
     "metadata": {},
     "output_type": "execute_result"
    }
   ],
   "source": [
    "X.toarray()"
   ]
  },
  {
   "cell_type": "code",
   "execution_count": 71,
   "id": "c085145d",
   "metadata": {},
   "outputs": [],
   "source": [
    "from sklearn.feature_extraction.text import TfidfVectorizer\n",
    "tfidf_vectorizer = TfidfVectorizer()\n",
    "X_tfidf = tfidf_vectorizer.fit_transform(data)\n"
   ]
  },
  {
   "cell_type": "code",
   "execution_count": 73,
   "id": "6d14fb1b",
   "metadata": {},
   "outputs": [
    {
     "data": {
      "text/plain": [
       "{'my': 13,\n",
       " 'name': 14,\n",
       " 'is': 8,\n",
       " 'deepu': 4,\n",
       " 'am': 0,\n",
       " 'learning': 10,\n",
       " 'nlp': 15,\n",
       " 'love': 11,\n",
       " 'it': 9,\n",
       " 'student': 18,\n",
       " 'at': 2,\n",
       " 'euronext': 6,\n",
       " 'python': 16,\n",
       " 'and': 1,\n",
       " 'machine': 12,\n",
       " 'engineer': 5,\n",
       " 'good': 7,\n",
       " 'comedy': 3,\n",
       " 'singing': 17,\n",
       " 'to': 20,\n",
       " 'study': 19}"
      ]
     },
     "execution_count": 73,
     "metadata": {},
     "output_type": "execute_result"
    }
   ],
   "source": [
    "vectorizer.vocabulary_"
   ]
  },
  {
   "cell_type": "code",
   "execution_count": 70,
   "id": "a75990d3",
   "metadata": {},
   "outputs": [
    {
     "data": {
      "text/plain": [
       "array([[0.        , 0.        , 0.        , 0.        , 0.5       ,\n",
       "        0.        , 0.        , 0.        , 0.5       , 0.        ,\n",
       "        0.        , 0.        , 0.        , 0.5       , 0.5       ,\n",
       "        0.        , 0.        , 0.        , 0.        , 0.        ,\n",
       "        0.        ],\n",
       "       [0.42129038, 0.        , 0.        , 0.        , 0.        ,\n",
       "        0.        , 0.        , 0.        , 0.        , 0.        ,\n",
       "        0.59506874, 0.        , 0.        , 0.        , 0.        ,\n",
       "        0.6844031 , 0.        , 0.        , 0.        , 0.        ,\n",
       "        0.        ],\n",
       "       [0.        , 0.        , 0.        , 0.        , 0.        ,\n",
       "        0.        , 0.        , 0.        , 0.        , 0.76396534,\n",
       "        0.        , 0.64525729, 0.        , 0.        , 0.        ,\n",
       "        0.        , 0.        , 0.        , 0.        , 0.        ,\n",
       "        0.        ],\n",
       "       [0.31017456, 0.        , 0.43811868, 0.        , 0.        ,\n",
       "        0.        , 0.59659189, 0.        , 0.        , 0.        ,\n",
       "        0.        , 0.        , 0.        , 0.        , 0.        ,\n",
       "        0.        , 0.        , 0.        , 0.59659189, 0.        ,\n",
       "        0.        ],\n",
       "       [0.27699611, 0.53277621, 0.        , 0.        , 0.        ,\n",
       "        0.        , 0.        , 0.        , 0.        , 0.        ,\n",
       "        0.39125442, 0.        , 0.        , 0.        , 0.        ,\n",
       "        0.44999127, 0.53277621, 0.        , 0.        , 0.        ,\n",
       "        0.        ],\n",
       "       [0.31017456, 0.        , 0.        , 0.        , 0.        ,\n",
       "        0.59659189, 0.        , 0.        , 0.        , 0.        ,\n",
       "        0.43811868, 0.        , 0.59659189, 0.        , 0.        ,\n",
       "        0.        , 0.        , 0.        , 0.        , 0.        ,\n",
       "        0.        ],\n",
       "       [0.32731945, 0.        , 0.46233568, 0.62956848, 0.        ,\n",
       "        0.        , 0.        , 0.53174356, 0.        , 0.        ,\n",
       "        0.        , 0.        , 0.        , 0.        , 0.        ,\n",
       "        0.        , 0.        , 0.        , 0.        , 0.        ,\n",
       "        0.        ],\n",
       "       [0.32731945, 0.        , 0.46233568, 0.        , 0.        ,\n",
       "        0.        , 0.        , 0.53174356, 0.        , 0.        ,\n",
       "        0.        , 0.        , 0.        , 0.        , 0.        ,\n",
       "        0.        , 0.        , 0.62956848, 0.        , 0.        ,\n",
       "        0.        ],\n",
       "       [0.        , 0.        , 0.        , 0.        , 0.        ,\n",
       "        0.        , 0.        , 0.        , 0.        , 0.        ,\n",
       "        0.        , 0.51274835, 0.        , 0.        , 0.        ,\n",
       "        0.        , 0.        , 0.        , 0.        , 0.60707871,\n",
       "        0.60707871]])"
      ]
     },
     "execution_count": 70,
     "metadata": {},
     "output_type": "execute_result"
    }
   ],
   "source": [
    "X_tfidf.toarray()"
   ]
  },
  {
   "cell_type": "code",
   "execution_count": 74,
   "id": "02e70d20",
   "metadata": {},
   "outputs": [],
   "source": [
    "import gensim\n",
    "from gensim.models import Word2Vec\n",
    "from nltk.tokenize import word_tokenize\n"
   ]
  },
  {
   "cell_type": "code",
   "execution_count": 75,
   "id": "aa684a46",
   "metadata": {},
   "outputs": [
    {
     "data": {
      "text/plain": [
       "['My name is Deepu',\n",
       " 'I am learning NLP',\n",
       " 'I love it',\n",
       " 'I am a student at Euronext',\n",
       " 'I am learning Python and NLP',\n",
       " 'I am MAchine Learning Engineer',\n",
       " 'I am good at comedy',\n",
       " 'I am good at singing',\n",
       " 'I love to study']"
      ]
     },
     "execution_count": 75,
     "metadata": {},
     "output_type": "execute_result"
    }
   ],
   "source": [
    "data"
   ]
  },
  {
   "cell_type": "code",
   "execution_count": 78,
   "id": "8f008162",
   "metadata": {},
   "outputs": [],
   "source": [
    "tokenize_data = [word_tokenize(i) for i in data] \n",
    "for i in tokenize_data:\n",
    "    tokenize_data = [word_tokenize(i) for i in data]"
   ]
  },
  {
   "cell_type": "code",
   "execution_count": 79,
   "id": "b516fc36",
   "metadata": {},
   "outputs": [
    {
     "data": {
      "text/plain": [
       "[['My', 'name', 'is', 'Deepu'],\n",
       " ['I', 'am', 'learning', 'NLP'],\n",
       " ['I', 'love', 'it'],\n",
       " ['I', 'am', 'a', 'student', 'at', 'Euronext'],\n",
       " ['I', 'am', 'learning', 'Python', 'and', 'NLP'],\n",
       " ['I', 'am', 'MAchine', 'Learning', 'Engineer'],\n",
       " ['I', 'am', 'good', 'at', 'comedy'],\n",
       " ['I', 'am', 'good', 'at', 'singing'],\n",
       " ['I', 'love', 'to', 'study']]"
      ]
     },
     "execution_count": 79,
     "metadata": {},
     "output_type": "execute_result"
    }
   ],
   "source": [
    "tokenize_data"
   ]
  },
  {
   "cell_type": "code",
   "execution_count": 80,
   "id": "07007960",
   "metadata": {},
   "outputs": [],
   "source": [
    "model = Word2Vec(sentences=tokenize_data, vector_size=100, window=5, min_count=1, workers=4)    "
   ]
  },
  {
   "cell_type": "code",
   "execution_count": 81,
   "id": "92f600d8",
   "metadata": {},
   "outputs": [
    {
     "data": {
      "text/plain": [
       "<gensim.models.word2vec.Word2Vec at 0x1724b42f0a0>"
      ]
     },
     "execution_count": 81,
     "metadata": {},
     "output_type": "execute_result"
    }
   ],
   "source": [
    "model"
   ]
  },
  {
   "cell_type": "code",
   "execution_count": 87,
   "id": "3423c22c",
   "metadata": {},
   "outputs": [
    {
     "data": {
      "text/plain": [
       "array([ 9.7680669e-03,  8.1648650e-03,  1.2816115e-03,  5.0972947e-03,\n",
       "        1.4056207e-03, -6.4550387e-03, -1.4261586e-03,  6.4495620e-03,\n",
       "       -4.6214461e-03, -3.9934455e-03,  4.9220496e-03,  2.7107748e-03,\n",
       "       -1.8509891e-03, -2.8777102e-03,  6.0091950e-03, -5.7172971e-03,\n",
       "       -3.2406964e-03, -6.4884066e-03, -4.2357175e-03, -8.5853925e-03,\n",
       "       -4.4702762e-03, -8.5090464e-03,  1.4070785e-03, -8.6177569e-03,\n",
       "       -9.9153863e-03, -8.2016792e-03, -6.7732637e-03,  6.6756061e-03,\n",
       "        3.7835133e-03,  3.5673729e-04, -2.9556085e-03, -7.4306871e-03,\n",
       "        5.3565181e-04,  4.9734104e-04,  1.9571718e-04,  8.5366436e-04,\n",
       "        7.8643463e-04, -6.5039530e-05, -8.0043999e-03, -5.8757206e-03,\n",
       "       -8.3828811e-03, -1.3148206e-03,  1.8165304e-03,  7.4174954e-03,\n",
       "       -1.9644243e-03, -2.3274291e-03,  9.4853686e-03,  8.3044099e-05,\n",
       "       -2.4030956e-03,  8.6056665e-03,  2.6859369e-03, -5.3461674e-03,\n",
       "        6.5910779e-03,  4.5135617e-03, -7.0544025e-03, -3.2312391e-04,\n",
       "        8.3654153e-04,  5.7422174e-03, -1.7210136e-03, -2.8076756e-03,\n",
       "        1.7502584e-03,  8.4638142e-04,  1.1952545e-03, -2.6359682e-03,\n",
       "       -5.9869587e-03,  7.3253890e-03,  7.5870738e-03,  8.2979957e-03,\n",
       "       -8.6012343e-03,  2.6368899e-03, -3.5604669e-03,  9.6244523e-03,\n",
       "        2.9060203e-03,  4.6412181e-03,  2.3856917e-03,  6.6102343e-03,\n",
       "       -5.7443068e-03,  7.8930836e-03, -2.4101674e-03, -4.5631998e-03,\n",
       "       -2.0583034e-03,  9.7290101e-03, -6.8550706e-03, -2.1943992e-03,\n",
       "        7.0008356e-03, -5.7128920e-05, -6.2970696e-03, -6.3934769e-03,\n",
       "        8.9388955e-03,  6.4320602e-03,  4.7779838e-03, -3.2588968e-03,\n",
       "       -9.2677586e-03,  3.7872258e-03,  7.1629565e-03, -5.6300238e-03,\n",
       "       -7.8675123e-03, -2.9739335e-03, -4.9312524e-03, -2.3151317e-03],\n",
       "      dtype=float32)"
      ]
     },
     "execution_count": 87,
     "metadata": {},
     "output_type": "execute_result"
    }
   ],
   "source": [
    "model.wv['Deepu']"
   ]
  },
  {
   "cell_type": "code",
   "execution_count": 85,
   "id": "76a7414b",
   "metadata": {},
   "outputs": [],
   "source": [
    "model.predict_output_word = model.wv.most_similar('Deepu', topn=5)"
   ]
  },
  {
   "cell_type": "code",
   "execution_count": 86,
   "id": "0f60b94c",
   "metadata": {},
   "outputs": [
    {
     "data": {
      "text/plain": [
       "[('at', 0.1727609783411026),\n",
       " ('NLP', 0.16721905767917633),\n",
       " ('MAchine', 0.13262902200222015),\n",
       " ('Engineer', 0.11182676255702972),\n",
       " ('study', 0.11116325855255127)]"
      ]
     },
     "execution_count": 86,
     "metadata": {},
     "output_type": "execute_result"
    }
   ],
   "source": [
    "model.predict_output_word "
   ]
  },
  {
   "cell_type": "code",
   "execution_count": null,
   "id": "9f834613",
   "metadata": {},
   "outputs": [],
   "source": []
  }
 ],
 "metadata": {
  "kernelspec": {
   "display_name": "nlp",
   "language": "python",
   "name": "python3"
  },
  "language_info": {
   "codemirror_mode": {
    "name": "ipython",
    "version": 3
   },
   "file_extension": ".py",
   "mimetype": "text/x-python",
   "name": "python",
   "nbconvert_exporter": "python",
   "pygments_lexer": "ipython3",
   "version": "3.10.18"
  }
 },
 "nbformat": 4,
 "nbformat_minor": 5
}
